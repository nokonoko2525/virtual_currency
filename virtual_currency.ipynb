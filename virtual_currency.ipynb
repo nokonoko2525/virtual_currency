{
 "cells": [
  {
   "cell_type": "code",
   "execution_count": 16,
   "id": "a5963d81-fd73-45bc-803b-d3e0bb683df3",
   "metadata": {},
   "outputs": [],
   "source": [
    "import requests\n",
    "\n",
    "APIkey = {\"X-Api-Key\": }"
   ]
  },
  {
   "cell_type": "code",
   "execution_count": 75,
   "id": "d2a6497b-4977-49af-ac5b-34a1bf2b39f8",
   "metadata": {},
   "outputs": [
    {
     "data": {
      "text/html": [
       "<div>\n",
       "<style scoped>\n",
       "    .dataframe tbody tr th:only-of-type {\n",
       "        vertical-align: middle;\n",
       "    }\n",
       "\n",
       "    .dataframe tbody tr th {\n",
       "        vertical-align: top;\n",
       "    }\n",
       "\n",
       "    .dataframe thead th {\n",
       "        text-align: right;\n",
       "    }\n",
       "</style>\n",
       "<table border=\"1\" class=\"dataframe\">\n",
       "  <thead>\n",
       "    <tr style=\"text-align: right;\">\n",
       "      <th></th>\n",
       "      <th>description</th>\n",
       "    </tr>\n",
       "  </thead>\n",
       "  <tbody>\n",
       "    <tr>\n",
       "      <th>0</th>\n",
       "      <td>The latest edition of Wharton’s Consumer Cryptocurrency Confidence Report finds increasing owner...</td>\n",
       "    </tr>\n",
       "  </tbody>\n",
       "</table>\n",
       "</div>"
      ],
      "text/plain": [
       "                                                                                           description\n",
       "0  The latest edition of Wharton’s Consumer Cryptocurrency Confidence Report finds increasing owner..."
      ]
     },
     "execution_count": 75,
     "metadata": {},
     "output_type": "execute_result"
    }
   ],
   "source": [
    "import pandas as pd\n",
    "url = 'https://newsapi.org/v2/everything'\n",
    "\n",
    "params = {\n",
    "    'q': 'Donald John Trump and bitcoin', #記事に含む単語\n",
    "    'sortBy': 'publishedAt', #最新の記事を持ってくる\n",
    "    'pageSize': 1 #読み込む記事の数\n",
    "}\n",
    "\n",
    "response = requests.get(url, headers=APIkey , params=params)\n",
    "\n",
    "if response.ok:\n",
    "    data = response.json()\n",
    "    df = pd.DataFrame(data['articles'])\n",
    "\n",
    "news = df[['description']]\n",
    "news"
   ]
  },
  {
   "cell_type": "code",
   "execution_count": 87,
   "id": "aaff45c6-cc0b-49f4-aab7-3c88215dfcb0",
   "metadata": {},
   "outputs": [],
   "source": [
    "from openai import OpenAI\n",
    "client = OpenAI(api_key = )"
   ]
  },
  {
   "cell_type": "code",
   "execution_count": 88,
   "id": "b1519ef7-fd42-43f9-a6d7-f9653d6da58e",
   "metadata": {},
   "outputs": [
    {
     "name": "stdout",
     "output_type": "stream",
     "text": [
      "description    buy\n",
      "dtype: object\n"
     ]
    }
   ],
   "source": [
    "def judge(summary):\n",
    "    prompt = f\"\"\"\n",
    "    あなたは金融アナリストです。この記事の要約文をもとに、仮想通貨市場に与える影響を判断してください。\n",
    "    要約: \"{summary}\"\n",
    "    出力は 'buy', 'sell', 'hold' のいずれかで答えてください。\n",
    "    \"\"\"\n",
    "    try:\n",
    "        response = client.chat.completions.create(\n",
    "            model=\"gpt-4.1\",\n",
    "            messages=[{\"role\": \"user\", \"content\": prompt}],\n",
    "            temperature=0\n",
    "        )\n",
    "        return response.choices[0].message.content.strip().lower()\n",
    "    except Exception as e:\n",
    "        return \"error\"   \n",
    "\n",
    "judgement = news.apply(judge)\n",
    "print(judgement)"
   ]
  },
  {
   "cell_type": "code",
   "execution_count": 82,
   "id": "56c6e290-14c6-4cc4-be6d-d825df45f294",
   "metadata": {},
   "outputs": [],
   "source": [
    "import json\n",
    "import requests\n",
    "import time\n",
    "import hmac\n",
    "import hashlib\n",
    "\n",
    "access_key = \n",
    "secret_key = \n",
    "\n",
    "class Coincheck:\n",
    "    def __init__(self, access_key, secret_key, url='https://coincheck.com'):\n",
    "        self.access_key = access_key\n",
    "        self.secret_key = secret_key\n",
    "        self.url = url\n",
    "\n",
    "    def get(self, path, params=None):\n",
    "        if params is not None:\n",
    "            params = json.dumps(params)\n",
    "        else:\n",
    "            params = ''\n",
    "        nonce = str(int(time.time()))\n",
    "        message = nonce + self.url + path + params\n",
    "    \n",
    "        signature = self.getSignature(message)\n",
    "    \n",
    "        response = requests.get(\n",
    "            self.url+path,\n",
    "            headers=self.getHeader(self.access_key, nonce, signature)\n",
    "        )\n",
    "        \n",
    "        try:\n",
    "            return response.json()  # JSONに変換を試みる\n",
    "        except Exception as e:\n",
    "            print('JSONじゃないレスポンスが返った:', response.text)\n",
    "            raise e\n",
    "\n",
    "    def post(self, path, params):\n",
    "        params = json.dumps(params)\n",
    "        nonce = str(int(time.time()))\n",
    "        message = nonce + self.url + path + params\n",
    "        \n",
    "        signature = self.getSignature(message)\n",
    "\n",
    "        return requests.post(\n",
    "            self.url+path,\n",
    "            data=params,\n",
    "            headers=self.getHeader(self.access_key, nonce, signature)\n",
    "        ).json()\n",
    "\n",
    "    def delete(self, path):\n",
    "        nonce = str(int(time.time()))\n",
    "        message = nonce + self.url + path\n",
    "\n",
    "        signature = self.getSignature(message)\n",
    "\n",
    "        return requests.delete(\n",
    "            self.url+path,\n",
    "            headers=self.getHeader(self.access_key, nonce, signature)\n",
    "        ).json()\n",
    "    \n",
    "    def getSignature(self, message):\n",
    "        signature = hmac.new(\n",
    "            bytes(self.secret_key.encode('ascii')),\n",
    "            bytes(message.encode('ascii')),\n",
    "            hashlib.sha256\n",
    "        ).hexdigest()\n",
    "        \n",
    "        return signature\n",
    "    \n",
    "    def getHeader(self, access_key, nonce, signature):\n",
    "        headers = {\n",
    "            'ACCESS-KEY': access_key,\n",
    "            'ACCESS-NONCE': nonce,\n",
    "            'ACCESS-SIGNATURE': signature,\n",
    "            'Content-Type': 'application/json' \n",
    "        }\n",
    "        \n",
    "        return headers\n",
    "        \n",
    "\n",
    "client = Coincheck(access_key, secret_key)"
   ]
  },
  {
   "cell_type": "code",
   "execution_count": 90,
   "id": "a9fa5ac3-ae68-46a0-bebd-c22594c9c627",
   "metadata": {},
   "outputs": [
    {
     "name": "stdout",
     "output_type": "stream",
     "text": [
      "売るよ\n",
      "注文結果：\n",
      "<Response [200]>\n"
     ]
    }
   ],
   "source": [
    "if (judgement == \"sell\").any:\n",
    "    print(\"売るよ\")\n",
    "    # params = {\n",
    "    # 'amount': 0.001,\n",
    "    # 'order_type': 'market_sell',\n",
    "    # 'pair': 'btc_jpy'\n",
    "    # }\n",
    "elif (judgement == \"buy\").any:\n",
    "    print(\"購入するよ\")\n",
    "    # params = {\n",
    "    # 'amount': 0.001,\n",
    "    # 'order_type': 'market_sell',\n",
    "    # 'pair': 'btc_jpy'\n",
    "    # }\n",
    "else:\n",
    "    print(\"保持！\")\n",
    "    \n",
    "# response = client.post(\"/api/exchange/orders\", params)\n",
    "\n",
    "print(\"注文結果：\")\n",
    "print(response)"
   ]
  }
 ],
 "metadata": {
  "kernelspec": {
   "display_name": "Python 3 (ipykernel)",
   "language": "python",
   "name": "python3"
  },
  "language_info": {
   "codemirror_mode": {
    "name": "ipython",
    "version": 3
   },
   "file_extension": ".py",
   "mimetype": "text/x-python",
   "name": "python",
   "nbconvert_exporter": "python",
   "pygments_lexer": "ipython3",
   "version": "3.8.20"
  }
 },
 "nbformat": 4,
 "nbformat_minor": 5
}
